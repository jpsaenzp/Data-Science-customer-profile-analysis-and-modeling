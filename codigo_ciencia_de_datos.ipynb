{
 "cells": [
  {
   "cell_type": "code",
   "execution_count": 1,
   "metadata": {},
   "outputs": [],
   "source": [
    "import pandas as pd\n",
    "import numpy as np\n",
    "import os \n",
    "import matplotlib.pyplot as plt  \n",
    "import json \n",
    "import requests\n",
    "import overpy\n",
    "from tqdm import tqdm\n",
    "from multiprocessing.dummy import Pool\n",
    "import seaborn as sns\n",
    "import re\n",
    "from matplotlib.pylab import rcParams\n",
    "from sklearn.model_selection import train_test_split\n",
    "from sklearn.linear_model import LogisticRegression\n",
    "from sklearn.preprocessing import StandardScaler\n",
    "from sklearn import metrics\n",
    "from sklearn.tree import DecisionTreeClassifier\n",
    "from sklearn.ensemble import AdaBoostClassifier\n",
    "from sklearn.ensemble import RandomForestClassifier\n",
    "import tensorflow as tf\n",
    "from sklearn.utils import resample\n",
    "from sklearn.model_selection import cross_val_score\n",
    "from sklearn.model_selection import GridSearchCV\n",
    "from sklearn import tree\n",
    "from __future__ import print_function\n",
    "import sys\n",
    "import datetime\n",
    "import scipy as sp\n",
    "# import more packages\n",
    "#!pip install ax-platform\n",
    "#https://ax.dev/docs/installation.html\n",
    "from ax.service.ax_client import AxClient\n",
    "from ax.utils.notebook.plotting import render, init_notebook_plotting\n",
    "from sklearn.metrics import classification_report\n",
    "from sklearn.metrics import accuracy_score, precision_score, recall_score, f1_score"
   ]
  },
  {
   "cell_type": "code",
   "execution_count": null,
   "metadata": {},
   "outputs": [],
   "source": [
    "# Primera base New_Usuarios\n",
    "New_Usuarios = pd.read_csv(\"New_Usuarios.csv\", index_col=0, sep=';', encoding='latin-1')\n",
    "New_Usuarios.reset_index(inplace=True)\n",
    "New_Usuarios.head()"
   ]
  },
  {
   "cell_type": "markdown",
   "metadata": {},
   "source": [
    "Revisamos el tipo de las columnas y mirar si hay datos nulos"
   ]
  },
  {
   "cell_type": "code",
   "execution_count": null,
   "metadata": {},
   "outputs": [],
   "source": [
    "New_Usuarios.shape"
   ]
  },
  {
   "cell_type": "code",
   "execution_count": null,
   "metadata": {},
   "outputs": [],
   "source": [
    "# Segunda base \n",
    "New_HistConsultas = pd.read_csv(\"New_HistConsultas.csv\", index_col=0, sep=';', encoding='latin-1')\n",
    "New_HistConsultas.head()"
   ]
  },
  {
   "cell_type": "code",
   "execution_count": null,
   "metadata": {},
   "outputs": [],
   "source": [
    "New_HistConsultas.set_index('ID_Cuenta',inplace=True)\n",
    "New_HistConsultas.head()"
   ]
  },
  {
   "cell_type": "markdown",
   "metadata": {},
   "source": [
    "No hay datos nulos. Hay que cambiar la fecha a tipo datetime"
   ]
  },
  {
   "cell_type": "code",
   "execution_count": null,
   "metadata": {},
   "outputs": [],
   "source": [
    "New_HistConsultas.shape"
   ]
  },
  {
   "cell_type": "markdown",
   "metadata": {},
   "source": [
    "# Pregunta 1: (20%) Conocer el tipo de cliente que se comunica a la línea. Realice un análisis descriptivo detallado de las variables, tenga en cuenta realizar análisis de correlación y pruebas de hipótesis si considera necesario"
   ]
  },
  {
   "cell_type": "code",
   "execution_count": null,
   "metadata": {},
   "outputs": [],
   "source": [
    "New_Usuarios.info()"
   ]
  },
  {
   "cell_type": "markdown",
   "metadata": {},
   "source": [
    "La base de datos New_Usuarios.csv presenta 21 variables, la mayoria son categóricas. Hay variables importantes que corresponden a características demográficas de la persona."
   ]
  },
  {
   "cell_type": "code",
   "execution_count": null,
   "metadata": {},
   "outputs": [],
   "source": [
    "New_HistConsultas.info()"
   ]
  },
  {
   "cell_type": "markdown",
   "metadata": {},
   "source": [
    "La base de datos New_HistConsultas presenta 2 variables, correspondientes a la fecha de la consulta y el tipo de consulta realizada"
   ]
  },
  {
   "cell_type": "code",
   "execution_count": null,
   "metadata": {},
   "outputs": [],
   "source": [
    "New_Usuarios[New_Usuarios.index.duplicated(keep=False)].index.value_counts()"
   ]
  },
  {
   "cell_type": "markdown",
   "metadata": {},
   "source": [
    "Hay identificadores duplicados, eso quiere decir que probablemente hay un identificador por ciudad o bien es la misma persona."
   ]
  },
  {
   "cell_type": "code",
   "execution_count": null,
   "metadata": {},
   "outputs": [],
   "source": [
    "New_Usuarios.describe()"
   ]
  },
  {
   "cell_type": "code",
   "execution_count": null,
   "metadata": {},
   "outputs": [],
   "source": [
    "g = sns.pairplot(New_Usuarios[['Monto_adeudado', 'Edad', 'Duracion_llamada', 'Tiempo_en_espera']], \n",
    "                               plot_kws = {\"color\": \"darkblue\"}, diag_kws = {\"color\":\"darkblue\"})\n",
    "g.fig.suptitle(\"Relación entre pares de variables\", fontsize = 26, fontweight = \"bold\")\n",
    "plt.subplots_adjust(top=0.9)\n",
    "plt.show()"
   ]
  },
  {
   "cell_type": "markdown",
   "metadata": {},
   "source": [
    "Los usuarios nuevos presentan una variación de edad entre 18 y 79 años, con una desviación estándar aproximada de 18 años. el promedio es de 48 años. Se tiene que el monto promedio que se adeuda es de \\$19.900. Se observan distribuciones sesgadas a la derecha en las variables cuantitativas. En el gráfico de dispersión no se observa un patron específico."
   ]
  },
  {
   "cell_type": "code",
   "execution_count": null,
   "metadata": {},
   "outputs": [],
   "source": [
    "New_Usuarios.columns[[10,11,14,15]] # Variable cuantitativas"
   ]
  },
  {
   "cell_type": "code",
   "execution_count": 33,
   "metadata": {},
   "outputs": [],
   "source": [
    "# Arreglar algunos errores en las variables categóricas\n",
    "New_Usuarios['Tipo_persona'] = New_Usuarios['Tipo_persona'].replace(['/casado.'],'casado')\n",
    "New_Usuarios['Tipo_persona'] = New_Usuarios['Tipo_persona'].replace(['casado.'],'casado')"
   ]
  },
  {
   "cell_type": "code",
   "execution_count": null,
   "metadata": {},
   "outputs": [],
   "source": [
    "New_Usuarios.loc[(New_Usuarios['Tipo_persona']=='casado')]"
   ]
  },
  {
   "cell_type": "code",
   "execution_count": null,
   "metadata": {},
   "outputs": [],
   "source": [
    "New_Usuarios['Tipo_persona'].value_counts()\n",
    "# Hay mayor cantida de solteros. Más adelante se describirán las variables."
   ]
  },
  {
   "cell_type": "code",
   "execution_count": null,
   "metadata": {
    "tags": []
   },
   "outputs": [],
   "source": [
    "New_Usuarios['Departamento'] = New_Usuarios['Departamento'].str.title()\n",
    "New_Usuarios['Departamento'].value_counts()"
   ]
  },
  {
   "cell_type": "code",
   "execution_count": null,
   "metadata": {
    "tags": []
   },
   "outputs": [],
   "source": [
    "New_Usuarios['Departamento'].value_counts().sort_index()"
   ]
  },
  {
   "cell_type": "code",
   "execution_count": 38,
   "metadata": {},
   "outputs": [],
   "source": [
    "New_Usuarios.loc[(New_Usuarios['Estrato']=='2-3')] = np.nan"
   ]
  },
  {
   "cell_type": "code",
   "execution_count": null,
   "metadata": {},
   "outputs": [],
   "source": [
    "New_Usuarios['Estrato'].value_counts()"
   ]
  },
  {
   "cell_type": "code",
   "execution_count": 40,
   "metadata": {},
   "outputs": [],
   "source": [
    "New_Usuarios['Estrato'] = pd.to_numeric(New_Usuarios['Estrato'])"
   ]
  },
  {
   "cell_type": "code",
   "execution_count": null,
   "metadata": {
    "tags": []
   },
   "outputs": [],
   "source": [
    "pal = {1.0:\"brown\", 2.0:\"red\", 3.0: \"orange\", 4.0: \"green\", 5.0: \"purple\", 6.0: \"blue\"}\n",
    "g = sns.pairplot(New_Usuarios[['Monto_adeudado', 'Edad', 'Estrato', 'Duracion_llamada', 'Tiempo_en_espera']], \n",
    "                               plot_kws = {\"color\": \"darkblue\"}, hue = 'Estrato', palette = pal, height=5, diag_kws = {\"color\":\"darkblue\"})\n",
    "g.fig.suptitle(\"Relación entre pares de variables\", fontsize = 26, fontweight = \"bold\")\n",
    "plt.subplots_adjust(top=0.9)\n",
    "plt.show()"
   ]
  },
  {
   "cell_type": "code",
   "execution_count": null,
   "metadata": {
    "tags": []
   },
   "outputs": [],
   "source": [
    "pal = {'soltero':\"brown\", 'unión libre':\"red\", 'casado': \"orange\", 'no sabe': \"green\", 'no dijo': \"purple\", 'soltero-casado.': \"blue\",'carlos': \"pink\"}\n",
    "g = sns.pairplot(New_Usuarios[['Monto_adeudado', 'Edad', 'Tipo_persona', 'Duracion_llamada', 'Tiempo_en_espera']], \n",
    "                               plot_kws = {\"color\": \"darkblue\"}, hue = 'Tipo_persona', palette = pal, height=5, diag_kws = {\"color\":\"darkblue\"})\n",
    "g.fig.suptitle(\"Relación entre pares de variables\", fontsize = 26, fontweight = \"bold\")\n",
    "plt.subplots_adjust(top=0.9)\n",
    "plt.show()"
   ]
  },
  {
   "cell_type": "code",
   "execution_count": 437,
   "metadata": {},
   "outputs": [],
   "source": [
    "#New_Usuarios['Estrato'] = New_Usuarios['Estrato'].astype('object',copy=False)\n",
    "#New_Usuarios['y'] = New_Usuarios['y'].astype('object',copy=False)"
   ]
  },
  {
   "cell_type": "code",
   "execution_count": null,
   "metadata": {
    "tags": []
   },
   "outputs": [],
   "source": [
    "g = sns.pairplot(New_Usuarios[['Monto_adeudado', 'Edad', 'Departamento', 'Duracion_llamada', 'Tiempo_en_espera']], \n",
    "                               plot_kws = {\"color\": \"darkblue\"}, hue = 'Departamento', height=5, diag_kws = {\"color\":\"darkblue\"})\n",
    "g.fig.suptitle(\"Relación entre pares de variables\", fontsize = 26, fontweight = \"bold\")\n",
    "plt.subplots_adjust(top=0.9)\n",
    "plt.show()"
   ]
  },
  {
   "cell_type": "code",
   "execution_count": null,
   "metadata": {
    "tags": []
   },
   "outputs": [],
   "source": [
    "g = sns.pairplot(New_Usuarios[['Monto_adeudado', 'Edad', 'Tiene_plan_avanzado', 'Duracion_llamada', 'Tiempo_en_espera']], \n",
    "                               plot_kws = {\"color\": \"darkblue\"}, hue = 'Tiene_plan_avanzado', height=5, diag_kws = {\"color\":\"darkblue\"})\n",
    "g.fig.suptitle(\"Relación entre pares de variables\", fontsize = 26, fontweight = \"bold\")\n",
    "plt.subplots_adjust(top=0.9)\n",
    "plt.show()"
   ]
  },
  {
   "cell_type": "code",
   "execution_count": null,
   "metadata": {
    "tags": []
   },
   "outputs": [],
   "source": [
    "g = sns.pairplot(New_Usuarios[['Monto_adeudado', 'Edad', 'Tipo_Plan', 'Duracion_llamada', 'Tiempo_en_espera']], \n",
    "                               plot_kws = {\"color\": \"darkblue\"}, hue = 'Tipo_Plan', height=5, diag_kws = {\"color\":\"darkblue\"})\n",
    "g.fig.suptitle(\"Relación entre pares de variables\", fontsize = 26, fontweight = \"bold\")\n",
    "plt.subplots_adjust(top=0.9)\n",
    "plt.show()"
   ]
  },
  {
   "cell_type": "code",
   "execution_count": null,
   "metadata": {
    "collapsed": true,
    "jupyter": {
     "outputs_hidden": true
    },
    "tags": []
   },
   "outputs": [],
   "source": [
    "g = sns.pairplot(New_Usuarios[['Monto_adeudado', 'Edad', 'Es_moroso', 'Duracion_llamada', 'Tiempo_en_espera']], \n",
    "                               plot_kws = {\"color\": \"darkblue\"}, hue = 'Es_moroso', height=5, diag_kws = {\"color\":\"darkblue\"})\n",
    "g.fig.suptitle(\"Relación entre pares de variables\", fontsize = 26, fontweight = \"bold\")\n",
    "plt.subplots_adjust(top=0.9)\n",
    "plt.show()"
   ]
  },
  {
   "cell_type": "code",
   "execution_count": null,
   "metadata": {
    "collapsed": true,
    "jupyter": {
     "outputs_hidden": true
    },
    "tags": []
   },
   "outputs": [],
   "source": [
    "g = sns.pairplot(New_Usuarios[['Monto_adeudado', 'Edad', 'Tiene_plus', 'Duracion_llamada', 'Tiempo_en_espera']], \n",
    "                               plot_kws = {\"color\": \"darkblue\"}, hue = 'Tiene_plus', height=5, diag_kws = {\"color\":\"darkblue\"})\n",
    "g.fig.suptitle(\"Relación entre pares de variables\", fontsize = 26, fontweight = \"bold\")\n",
    "plt.subplots_adjust(top=0.9)\n",
    "plt.show()"
   ]
  },
  {
   "cell_type": "code",
   "execution_count": null,
   "metadata": {
    "collapsed": true,
    "jupyter": {
     "outputs_hidden": true
    },
    "tags": []
   },
   "outputs": [],
   "source": [
    "g = sns.pairplot(New_Usuarios[['Monto_adeudado', 'Edad', 'Ha_caido_mora', 'Duracion_llamada', 'Tiempo_en_espera']], \n",
    "                               plot_kws = {\"color\": \"darkblue\"}, hue = 'Ha_caido_mora', height=5, diag_kws = {\"color\":\"darkblue\"})\n",
    "g.fig.suptitle(\"Relación entre pares de variables\", fontsize = 26, fontweight = \"bold\")\n",
    "plt.subplots_adjust(top=0.9)\n",
    "plt.show()"
   ]
  },
  {
   "cell_type": "code",
   "execution_count": null,
   "metadata": {
    "collapsed": true,
    "jupyter": {
     "outputs_hidden": true
    },
    "tags": []
   },
   "outputs": [],
   "source": [
    "g = sns.pairplot(New_Usuarios[['Monto_adeudado', 'Edad', 'Correo', 'Duracion_llamada', 'Tiempo_en_espera']], \n",
    "                               plot_kws = {\"color\": \"darkblue\"}, hue = 'Correo', height=5, diag_kws = {\"color\":\"darkblue\"})\n",
    "g.fig.suptitle(\"Relación entre pares de variables\", fontsize = 26, fontweight = \"bold\")\n",
    "plt.subplots_adjust(top=0.9)\n",
    "plt.show()"
   ]
  },
  {
   "cell_type": "code",
   "execution_count": null,
   "metadata": {
    "collapsed": true,
    "jupyter": {
     "outputs_hidden": true
    },
    "tags": []
   },
   "outputs": [],
   "source": [
    "g = sns.pairplot(New_Usuarios[['Monto_adeudado', 'Edad', 'usa_app', 'Duracion_llamada', 'Tiempo_en_espera']], \n",
    "                 plot_kws = {\"color\": \"darkblue\"}, hue = 'usa_app', height=5, diag_kws = {\"color\":\"darkblue\"})\n",
    "g.fig.suptitle(\"Relación entre pares de variables\", fontsize = 26, fontweight = \"bold\")\n",
    "plt.subplots_adjust(top=0.9)\n",
    "plt.show()"
   ]
  },
  {
   "cell_type": "code",
   "execution_count": null,
   "metadata": {
    "collapsed": true,
    "jupyter": {
     "outputs_hidden": true
    },
    "tags": []
   },
   "outputs": [],
   "source": [
    "g = sns.pairplot(New_Usuarios[['Monto_adeudado', 'Edad', 'Forma_pago', 'Duracion_llamada', 'Tiempo_en_espera']], \n",
    "                 plot_kws = {\"color\": \"darkblue\"}, hue = 'Forma_pago', height=5, diag_kws = {\"color\":\"darkblue\"})\n",
    "g.fig.suptitle(\"Relación entre pares de variables\", fontsize = 26, fontweight = \"bold\")\n",
    "plt.subplots_adjust(top=0.9)\n",
    "plt.show()"
   ]
  },
  {
   "cell_type": "code",
   "execution_count": null,
   "metadata": {
    "collapsed": true,
    "jupyter": {
     "outputs_hidden": true
    },
    "tags": []
   },
   "outputs": [],
   "source": [
    "g = sns.pairplot(New_Usuarios[['Monto_adeudado', 'Edad', 'Motivo_llamada', 'Duracion_llamada', 'Tiempo_en_espera']], \n",
    "                               plot_kws = {\"color\": \"darkblue\"}, hue = 'Motivo_llamada', height=5, diag_kws = {\"color\":\"darkblue\"})\n",
    "g.fig.suptitle(\"Relación entre pares de variables\", fontsize = 26, fontweight = \"bold\")\n",
    "plt.subplots_adjust(top=0.9)\n",
    "plt.show()"
   ]
  },
  {
   "cell_type": "code",
   "execution_count": null,
   "metadata": {
    "collapsed": true,
    "jupyter": {
     "outputs_hidden": true
    },
    "tags": []
   },
   "outputs": [],
   "source": [
    "g = sns.pairplot(New_Usuarios[['Monto_adeudado', 'Edad', 'Transferencia_llamada', 'Duracion_llamada', 'Tiempo_en_espera']], \n",
    "                               plot_kws = {\"color\": \"darkblue\"}, hue = 'Transferencia_llamada', height=5, diag_kws = {\"color\":\"darkblue\"})\n",
    "g.fig.suptitle(\"Relación entre pares de variables\", fontsize = 26, fontweight = \"bold\")\n",
    "plt.subplots_adjust(top=0.9)\n",
    "plt.show()"
   ]
  },
  {
   "cell_type": "code",
   "execution_count": null,
   "metadata": {
    "collapsed": true,
    "jupyter": {
     "outputs_hidden": true
    },
    "tags": []
   },
   "outputs": [],
   "source": [
    "g = sns.pairplot(New_Usuarios[['Monto_adeudado', 'Edad', 'primera_llamada', 'Duracion_llamada', 'Tiempo_en_espera']],\n",
    "                 plot_kws = {\"color\": \"darkblue\"}, hue = 'primera_llamada', height=5, diag_kws = {\"color\":\"darkblue\"})\n",
    "g.fig.suptitle(\"Relación entre pares de variables\", fontsize = 26, fontweight = \"bold\")\n",
    "plt.subplots_adjust(top=0.9)\n",
    "plt.show()"
   ]
  },
  {
   "cell_type": "code",
   "execution_count": null,
   "metadata": {
    "collapsed": true,
    "jupyter": {
     "outputs_hidden": true
    },
    "tags": []
   },
   "outputs": [],
   "source": [
    "g = sns.pairplot(New_Usuarios[['Monto_adeudado', 'Edad', 'Antiguedad', 'Duracion_llamada', 'Tiempo_en_espera']], \n",
    "                               plot_kws = {\"color\": \"darkblue\"}, hue = 'Antiguedad', height=5, diag_kws = {\"color\":\"darkblue\"})\n",
    "g.fig.suptitle(\"Relación entre pares de variables\", fontsize = 26, fontweight = \"bold\")\n",
    "plt.subplots_adjust(top=0.9)\n",
    "plt.show()"
   ]
  },
  {
   "cell_type": "code",
   "execution_count": null,
   "metadata": {
    "collapsed": true,
    "jupyter": {
     "outputs_hidden": true
    },
    "tags": []
   },
   "outputs": [],
   "source": [
    "g = sns.pairplot(New_Usuarios[['Monto_adeudado', 'Edad', 'Recomienda_marca', 'Duracion_llamada', 'Tiempo_en_espera']],\n",
    "                 plot_kws = {\"color\": \"darkblue\"}, hue = 'Recomienda_marca', height=5, diag_kws = {\"color\":\"darkblue\"})\n",
    "g.fig.suptitle(\"Relación entre pares de variables\", fontsize = 26, fontweight = \"bold\")\n",
    "plt.subplots_adjust(top=0.9)\n",
    "plt.show()"
   ]
  },
  {
   "cell_type": "code",
   "execution_count": null,
   "metadata": {
    "collapsed": true,
    "jupyter": {
     "outputs_hidden": true
    },
    "tags": []
   },
   "outputs": [],
   "source": [
    "g = sns.pairplot(New_Usuarios[['Monto_adeudado', 'Edad', 'y', 'Duracion_llamada', 'Tiempo_en_espera']],plot_kws = {\"color\": \"darkblue\"}, \n",
    "                 hue = 'y', height=5, diag_kws = {\"color\":\"darkblue\"})\n",
    "g.fig.suptitle(\"Relación entre pares de variables\", fontsize = 26, fontweight = \"bold\")\n",
    "plt.subplots_adjust(top=0.9)\n",
    "plt.show()"
   ]
  },
  {
   "cell_type": "code",
   "execution_count": null,
   "metadata": {},
   "outputs": [],
   "source": [
    "g = sns.catplot(x = \"Estrato\", kind = \"count\", data = New_Usuarios)\n",
    "g.fig.suptitle(\"Número de personas por estrato\", fontsize = 16, fontweight = \"bold\")\n",
    "for ax in g.axes.flat:\n",
    "    ax.set_xticklabels(ax.get_xticklabels(), fontsize=9)\n",
    "plt.subplots_adjust(top=0.85)\n",
    "g.fig.text(1,-.02, \"Elaboración:\", fontsize = 10, fontweight = \"bold\", ha = \"right\")\n",
    "g.fig.text(1,-.08, \"Saenz (2021)\", fontsize = 8, ha = \"right\")\n",
    "plt.show()"
   ]
  },
  {
   "cell_type": "markdown",
   "metadata": {},
   "source": [
    "Hay mayor cantidad de personas en estrato 4. Esta variable presenta una distribución aproximadamente homogénea. "
   ]
  },
  {
   "cell_type": "markdown",
   "metadata": {},
   "source": [
    "#### Análisis de variables no numéricas"
   ]
  },
  {
   "cell_type": "code",
   "execution_count": 59,
   "metadata": {},
   "outputs": [],
   "source": [
    "def Grafica(i,j,k):\n",
    "    j=\"{}\".format(j)\n",
    "    Grafica=i[j].value_counts()\n",
    "    print(Grafica)\n",
    "    a=len(Grafica)\n",
    "    plt.figure(figsize=(10,0.5*a))\n",
    "    Grafica.plot.barh()\n",
    "    plt.title(k)\n",
    "    return Grafica"
   ]
  },
  {
   "cell_type": "code",
   "execution_count": 60,
   "metadata": {},
   "outputs": [],
   "source": [
    "def Graphplot(Grafica,x_name,y_name,k):\n",
    "    x,y=[],[]\n",
    "    for i in range(len(Grafica)):\n",
    "        a,b=Grafica.index[i],Grafica[i]\n",
    "        x.append(a)\n",
    "        y.append(b)\n",
    "    a=len(Grafica)\n",
    "    fig, ax = plt.subplots(figsize=(10,0.5*a))  \n",
    "    width = 0.01 # the width of the bars \n",
    "    ind = np.arange(len(y))  # the x locations for the groups\n",
    "    ax.barh(ind, y, color=\"steelblue\",height=0.5)\n",
    "    ax.set_yticks(ind+width/2)\n",
    "    ax.set_yticklabels(x, minor=False)\n",
    "    ax.set_xlabel(x_name)\n",
    "    ax.set_ylabel(y_name)\n",
    "    plt.title('title')  \n",
    "    for i, v in enumerate(y):\n",
    "        ax.text(v + 0.1, i , str(v), color='black', fontweight='bold')\n",
    "    plt.title(k)\n",
    "    plt.show()\n",
    "    #plt.savefig(os.path.join('test.png'), dpi=300, format='png', bbox_inches='tight') # use format='svg' or 'pdf' for vectorial pictures\n",
    "    return Grafica"
   ]
  },
  {
   "cell_type": "code",
   "execution_count": 61,
   "metadata": {},
   "outputs": [],
   "source": [
    "def GraficaNueva(i,j,x_name,y_name,title):\n",
    "    j=\"{}\".format(j)\n",
    "    Grafica=i[j].value_counts()\n",
    "    Graphplot(Grafica,x_name,y_name,title)\n",
    "    return Grafica"
   ]
  },
  {
   "cell_type": "code",
   "execution_count": 62,
   "metadata": {},
   "outputs": [],
   "source": [
    "def GraficaPie2(archivo1,titulo,o):\n",
    "    fig, ax = plt.subplots(figsize=(6, 8), subplot_kw=dict(aspect=\"equal\"))\n",
    "    NOMBRES,NUMERO,explode,porcentage=[],[],[],[]\n",
    "    TOTAL=archivo1.sum()\n",
    "    for i in range(len(archivo1)):\n",
    "        p=round((archivo1[i]/TOTAL)*100,2)\n",
    "        D=archivo1.index[i]+\":  {}%\".format(p)\n",
    "        NOMBRES.append(D)\n",
    "        NUMERO.append(archivo1[i])\n",
    "        porcentage.append(p)\n",
    "    wedges, texts = ax.pie(NUMERO, wedgeprops=dict(width=0.5), startangle=-40)\n",
    "\n",
    "    bbox_props = dict(boxstyle=\"square,pad=0.3\", fc=\"w\", ec=\"k\", lw=0.72)\n",
    "    kw = dict(arrowprops=dict(arrowstyle=\"-\"), bbox=bbox_props, zorder=0, va=\"center\")\n",
    "    for i, p in enumerate(wedges):\n",
    "        ang = (p.theta2 - p.theta1)/2. + p.theta1\n",
    "        y = np.sin(np.deg2rad(ang))\n",
    "        x = np.cos(np.deg2rad(ang))\n",
    "        horizontalalignment = {-1: \"right\", 1: \"left\"}[int(np.sign(x))]\n",
    "        connectionstyle = \"angle,angleA=0,angleB={}\".format(ang)\n",
    "        kw[\"arrowprops\"].update({\"connectionstyle\": connectionstyle})\n",
    "        ax.annotate(NOMBRES[i], xy=(x, y), xytext=(1.35*np.sign(x), 1.1*y),horizontalalignment=horizontalalignment, **kw)\n",
    "    ax.set_title(titulo)\n",
    "    plt.show()\n",
    "    return porcentage"
   ]
  },
  {
   "cell_type": "code",
   "execution_count": null,
   "metadata": {
    "tags": []
   },
   "outputs": [],
   "source": [
    "graficas = list()\n",
    "for i in New_Usuarios.select_dtypes(include = ['object']).columns[1:16]:\n",
    "    var2 = i\n",
    "    graficas.append(Grafica(New_Usuarios,var2, var2))"
   ]
  },
  {
   "cell_type": "markdown",
   "metadata": {},
   "source": [
    "El 74,16% de los nuevos usuarios presentan un estado civil de soltero, seguido está Unión libre con el 17,16%. Los registros provienen en su mayoría de Santafé de Bogotá, aproximadamente el 72,33%. Seguido está Antioquia con el 6,79% de los registros. El 90% no tiene plan avanzado, mientras que los que si tienen plan, el 27% tiene plan a seguido de plan d con el 15,57%. El 80% no son deudores morosos. De de los usuarios registrados, el 63% han caido en mora. Se observa la inserción de las nuevas tecnologías como forma de pago ya que el 60% usa pago online. Como se mencionaba anteriormente, el estrato presenta una distribución aproximadamente homogenéa. El 45% de los usuarios presentan antiguedad $legend$. Por último, el 45% de los nuevos usuarios si recomiendan la marca."
   ]
  },
  {
   "cell_type": "code",
   "execution_count": null,
   "metadata": {
    "tags": []
   },
   "outputs": [],
   "source": [
    "for i in range(0,16):\n",
    "    var2 = i\n",
    "    GraficaPie2(graficas[var2],New_Usuarios.select_dtypes(include = ['object']).columns[var2+1],\" \")"
   ]
  },
  {
   "cell_type": "markdown",
   "metadata": {},
   "source": [
    "#### Base New_HistConsultas"
   ]
  },
  {
   "cell_type": "markdown",
   "metadata": {},
   "source": [
    "Todas las variables son categóricas. Hacemos un conteo de las consultas hechas"
   ]
  },
  {
   "cell_type": "code",
   "execution_count": null,
   "metadata": {
    "tags": []
   },
   "outputs": [],
   "source": [
    "id_counts = New_HistConsultas.index.value_counts()\n",
    "id_counts"
   ]
  },
  {
   "cell_type": "markdown",
   "metadata": {},
   "source": [
    "Obtenemos los conteos de cada ID para ver las veces que llamó. Hay clientes que llamaron muchas veces en el transcursos de los 4 meses."
   ]
  },
  {
   "cell_type": "code",
   "execution_count": null,
   "metadata": {},
   "outputs": [],
   "source": [
    "tipo_consulta = New_HistConsultas['Tipo_consulta'].value_counts()\n",
    "fig, ax = plt.subplots(figsize=(10, 10))\n",
    "ax.bar(tipo_consulta.keys(), tipo_consulta)\n",
    "for rect in ax.patches:\n",
    "    height = rect.get_height()\n",
    "    ax.annotate(f'{int(height)}', xy=(rect.get_x()+rect.get_width()/2, height), \n",
    "                xytext=(0, 5), textcoords='offset points', ha='center', va='bottom')\n",
    "plt.xticks(rotation = 45)\n",
    "plt.show"
   ]
  },
  {
   "cell_type": "code",
   "execution_count": null,
   "metadata": {},
   "outputs": [],
   "source": [
    "Tipos_llamadas = Grafica(New_HistConsultas,\"Tipo_consulta\", \"Numero de tipos de consulta\")"
   ]
  },
  {
   "cell_type": "markdown",
   "metadata": {},
   "source": [
    "En la base de datos New_HistConsultas se enuncian 5 tipos de consulta, cuya consulta más frecuente son Procesos web con el 38,15% de los registros, es decir 489.480. Seguidamente se encuentra agendamiento citas con el 26,25%. La consulta menos frecente en las llamadas es información general, con apenas el 2,8% del total, es decir 35.828 consultas."
   ]
  },
  {
   "cell_type": "code",
   "execution_count": null,
   "metadata": {},
   "outputs": [],
   "source": [
    "GraficaPie2(Tipos_llamadas,\"Tipos de Consulta\",\" \")"
   ]
  },
  {
   "cell_type": "code",
   "execution_count": null,
   "metadata": {},
   "outputs": [],
   "source": [
    "New_HistConsultas['Fecha_consulta'] = pd.to_datetime(New_HistConsultas['Fecha_consulta'], format = '%Y-%m-%d %H:%M:%S')\n",
    "print(New_HistConsultas.info())"
   ]
  },
  {
   "cell_type": "code",
   "execution_count": null,
   "metadata": {},
   "outputs": [],
   "source": [
    "rcParams['figure.figsize'] = 15, 6\n",
    "New_HistConsultas['Fecha_consulta_dia']=pd.to_datetime(New_HistConsultas['Fecha_consulta'],format=\"%Y-%m-%d\").dt.dayofweek\n",
    "New_HistConsultas"
   ]
  },
  {
   "cell_type": "code",
   "execution_count": null,
   "metadata": {},
   "outputs": [],
   "source": [
    "########################## Llamadas por el día de la semana \n",
    "#check datatype of index\n",
    "#convert to time series:\n",
    "Llamadas = New_HistConsultas[\"Fecha_consulta_dia\"].value_counts()\n",
    "Llamadas = Llamadas.sort_index()\n",
    "#Llamadas.index = pd.to_datetime(Llamadas.index)\n",
    "Llamadas = Llamadas.to_frame(name=\"LLamadas\")\n",
    "####Graficar la Serie#####\n",
    "Llamadas.rename(index={\"0\": 'Lunes'})\n",
    "Llamadas.index = ['Lunes', 'Martes', 'Miercoles',\"Jueves\",\"Viernes\",\"Sabado\"]\n",
    "plt.plot(Llamadas)\n",
    "plt.title('Dias de la semana') \n",
    "plt.show()"
   ]
  },
  {
   "cell_type": "code",
   "execution_count": null,
   "metadata": {},
   "outputs": [],
   "source": [
    "Llamadas"
   ]
  },
  {
   "cell_type": "markdown",
   "metadata": {},
   "source": [
    "El día de la semana en el que igresan más llamadas es el martes, seguido del miércoles. Se observa además en la gráficas de arriba que la frecuencia de las llamadas va disminuyendo a medida que se acerca el fin de semana. El sábado es el día en donde menos llamadas se presentan. "
   ]
  },
  {
   "cell_type": "code",
   "execution_count": null,
   "metadata": {},
   "outputs": [],
   "source": [
    "rcParams['figure.figsize'] = 15, 6\n",
    "New_HistConsultas['Fecha_consulta_dia2']=pd.to_datetime(New_HistConsultas['Fecha_consulta'],format=\"%Y-%m-%d\").dt.date\n",
    "New_HistConsultas"
   ]
  },
  {
   "cell_type": "code",
   "execution_count": null,
   "metadata": {},
   "outputs": [],
   "source": [
    "Llamadas2=New_HistConsultas['Fecha_consulta_dia2'].value_counts()\n",
    "Llamadas2=Llamadas2.sort_index()\n",
    "#Llamadas.index = pd.to_datetime(Llamadas.index)\n",
    "Llamadas2=Llamadas2.to_frame(name=\"LLamadas\")\n",
    "####Graficar la Serie#####\n",
    "Llamadas2.rename(index={\"0\": 'Lunes'})\n",
    "plt.plot(Llamadas2)\n",
    "plt.title('Serie diaria') \n",
    "plt.show()"
   ]
  },
  {
   "cell_type": "code",
   "execution_count": null,
   "metadata": {},
   "outputs": [],
   "source": [
    "Llamadas2"
   ]
  },
  {
   "cell_type": "markdown",
   "metadata": {},
   "source": [
    "Hay que mencionar que la base de datos New_HistConsultas presenta una variable de fecha de consulta, con un horizonte temporal de 4 meses, compredido entre el 1 de junio de 2015 y el 29 de septiembre de 2015. En el gráfico de arriba se observa que la serie presenta un ciclo bastante marcado, debido principalmente a que las llamadas disminuyen bastante los viernes y sábado. La mayor cantidad de consultas realizadas por los usuarios de da durante el més de agosto y las primeras dos semanas de septiembre. donde superan el registro de 20.000 llamadas diarias. "
   ]
  },
  {
   "cell_type": "code",
   "execution_count": null,
   "metadata": {},
   "outputs": [],
   "source": [
    "rcParams['figure.figsize'] = 15, 6\n",
    "New_HistConsultas['Fecha_consulta_mes']=pd.to_datetime(New_HistConsultas['Fecha_consulta'],format=\"%Y-%m-%d\").dt.month\n",
    "New_HistConsultas"
   ]
  },
  {
   "cell_type": "code",
   "execution_count": null,
   "metadata": {},
   "outputs": [],
   "source": [
    "Llamadas3=New_HistConsultas['Fecha_consulta_mes'].value_counts()\n",
    "Llamadas3=Llamadas3.sort_index()\n",
    "#Llamadas.index = pd.to_datetime(Llamadas.index)\n",
    "Llamadas3=Llamadas3.to_frame(name=\"LLamadas\")\n",
    "####Graficar la Serie#####\n",
    "Llamadas3.rename(index={\"6\": 'junio'})\n",
    "Llamadas3.index = ['junio', 'julio', 'agosto','septiembre']\n",
    "plt.plot(Llamadas3)\n",
    "plt.title('Serie diaria') \n",
    "plt.show()"
   ]
  },
  {
   "cell_type": "code",
   "execution_count": null,
   "metadata": {},
   "outputs": [],
   "source": [
    "Llamadas3"
   ]
  },
  {
   "cell_type": "markdown",
   "metadata": {},
   "source": [
    "Por último se observa que el mes de agosto presentó mayor cantidad de llamadas, aproximadamente 380.400 llamadas. Seguido está el mes de septiembre. El mes de junio presenta menos frecuencia de llamadas. "
   ]
  },
  {
   "cell_type": "markdown",
   "metadata": {},
   "source": [
    "Separamos conteos por tipo de consulta"
   ]
  },
  {
   "cell_type": "code",
   "execution_count": null,
   "metadata": {},
   "outputs": [],
   "source": [
    "New_HistConsultas = pd.read_csv(\"New_HistConsultas.csv\", index_col=0, sep=';', encoding='latin-1')\n",
    "New_HistConsultas['Fecha_consulta'] = pd.to_datetime(New_HistConsultas['Fecha_consulta'], format = '%Y-%m-%d %H:%M:%S')\n",
    "consultas_id = pd.pivot_table(New_HistConsultas, index='ID_Cuenta', columns='Tipo_consulta', aggfunc='count', fill_value=0).droplevel(0,axis=1)\n",
    "consultas_id"
   ]
  },
  {
   "cell_type": "code",
   "execution_count": null,
   "metadata": {},
   "outputs": [],
   "source": []
  },
  {
   "cell_type": "markdown",
   "metadata": {},
   "source": [
    "#### Correlación"
   ]
  },
  {
   "cell_type": "markdown",
   "metadata": {},
   "source": [
    "La asociación lineal entre las variables cuantitativas es baja. Se filtró por: \n",
    "Estado civil de la persona, departamento == Santafé de Bogotá, si es morosa, si alguna vez ha caido en mora, estrato == 1, estrato == 6, Antiguedad == legend, y $y == 1$. No se halló asociación lineal significativa. Se debe observar la asociación no lineal."
   ]
  },
  {
   "cell_type": "code",
   "execution_count": null,
   "metadata": {},
   "outputs": [],
   "source": [
    "cuantitativas = New_Usuarios[['Monto_adeudado', 'Edad', 'Duracion_llamada', 'Tiempo_en_espera']]\n",
    "fig, ax = plt.subplots(figsize = (8, 6))\n",
    "fig.suptitle(\"Correlación simple entre variables cuantitativas\", fontsize = 16, fontweight = \"bold\", x = 0.43)\n",
    "sns.heatmap(cuantitativas.corr(), vmin = -1, vmax = 1, ax = ax, cmap = \"RdYlGn\", annot = True)\n",
    "plt.subplots_adjust(top = 0.85)\n",
    "plt.show()"
   ]
  },
  {
   "cell_type": "code",
   "execution_count": null,
   "metadata": {},
   "outputs": [],
   "source": [
    "fig, ax = plt.subplots(figsize = (8, 6))\n",
    "fig.suptitle(\"Correlación simple entre variables cuantitativas con persona soltera\", fontsize = 16, fontweight = \"bold\", x = 0.43)\n",
    "sns.heatmap(New_Usuarios[New_Usuarios['Tipo_persona']=='soltero'][['Monto_adeudado', 'Edad', 'Duracion_llamada', 'Tiempo_en_espera']].corr(), \n",
    "            vmin = -1, vmax = 1, ax = ax, cmap = \"RdYlGn\", annot = True)\n",
    "plt.subplots_adjust(top = 0.85)\n",
    "plt.show()"
   ]
  },
  {
   "cell_type": "code",
   "execution_count": null,
   "metadata": {},
   "outputs": [],
   "source": [
    "fig, ax = plt.subplots(figsize = (8, 6))\n",
    "fig.suptitle(\"Correlación simple entre variables cuantitativas con Bogotá\", fontsize = 16, fontweight = \"bold\", x = 0.43)\n",
    "sns.heatmap(New_Usuarios[New_Usuarios['Departamento']=='Santafé De Bogotá'][['Monto_adeudado', 'Edad', 'Duracion_llamada', 'Tiempo_en_espera']].corr(), \n",
    "            vmin = -1, vmax = 1, ax = ax, cmap = \"RdYlGn\", annot = True)\n",
    "plt.subplots_adjust(top = 0.85)\n",
    "plt.show()"
   ]
  },
  {
   "cell_type": "code",
   "execution_count": null,
   "metadata": {},
   "outputs": [],
   "source": [
    "fig, ax = plt.subplots(figsize = (8, 6))\n",
    "fig.suptitle(\"Correlación simple entre variables cuantitativas con persona morosa\", fontsize = 16, fontweight = \"bold\", x = 0.43)\n",
    "sns.heatmap(New_Usuarios[New_Usuarios['Es_moroso']=='si'][['Monto_adeudado', 'Edad', 'Duracion_llamada', 'Tiempo_en_espera']].corr(), \n",
    "            vmin = -1, vmax = 1, ax = ax, cmap = \"RdYlGn\", annot = True)\n",
    "plt.subplots_adjust(top = 0.85)\n",
    "plt.show()"
   ]
  },
  {
   "cell_type": "code",
   "execution_count": null,
   "metadata": {},
   "outputs": [],
   "source": [
    "fig, ax = plt.subplots(figsize = (8, 6))\n",
    "fig.suptitle(\"Correlación simple entre variables cuantitativas con persona que ha caido en mora\", fontsize = 16, fontweight = \"bold\", x = 0.43)\n",
    "sns.heatmap(New_Usuarios[New_Usuarios['Ha_caido_mora']=='si'][['Monto_adeudado', 'Edad', 'Duracion_llamada', 'Tiempo_en_espera']].corr(), \n",
    "            vmin = -1, vmax = 1, ax = ax, cmap = \"RdYlGn\", annot = True)\n",
    "plt.subplots_adjust(top = 0.85)\n",
    "plt.show()"
   ]
  },
  {
   "cell_type": "code",
   "execution_count": null,
   "metadata": {},
   "outputs": [],
   "source": [
    "fig, ax = plt.subplots(figsize = (8, 6))\n",
    "fig.suptitle(\"Correlación simple entre variables cuantitativas con persona de estrato 1\", fontsize = 16, fontweight = \"bold\", x = 0.43)\n",
    "sns.heatmap(New_Usuarios[New_Usuarios['Estrato']==1][['Monto_adeudado', 'Edad', 'Duracion_llamada', 'Tiempo_en_espera']].corr(), \n",
    "            vmin = -1, vmax = 1, ax = ax, cmap = \"RdYlGn\", annot = True)\n",
    "plt.subplots_adjust(top = 0.85)\n",
    "plt.show()"
   ]
  },
  {
   "cell_type": "code",
   "execution_count": null,
   "metadata": {},
   "outputs": [],
   "source": [
    "fig, ax = plt.subplots(figsize = (8, 6))\n",
    "fig.suptitle(\"Correlación simple entre variables cuantitativas con persona de estrato 6\", fontsize = 16, fontweight = \"bold\", x = 0.43)\n",
    "sns.heatmap(New_Usuarios[New_Usuarios['Estrato']==6][['Monto_adeudado', 'Edad', 'Duracion_llamada', 'Tiempo_en_espera']].corr(), \n",
    "            vmin = -1, vmax = 1, ax = ax, cmap = \"RdYlGn\", annot = True)\n",
    "plt.subplots_adjust(top = 0.85)\n",
    "plt.show()"
   ]
  },
  {
   "cell_type": "code",
   "execution_count": null,
   "metadata": {},
   "outputs": [],
   "source": [
    "fig, ax = plt.subplots(figsize = (8, 6))\n",
    "fig.suptitle(\"Correlación simple entre variables cuantitativas con persona antigua\", fontsize = 16, fontweight = \"bold\", x = 0.43)\n",
    "sns.heatmap(New_Usuarios[New_Usuarios['Antiguedad']=='Legend'][['Monto_adeudado', 'Edad', 'Duracion_llamada', 'Tiempo_en_espera']].corr(), \n",
    "            vmin = -1, vmax = 1, ax = ax, cmap = \"RdYlGn\", annot = True)\n",
    "plt.subplots_adjust(top = 0.85)\n",
    "plt.show()"
   ]
  },
  {
   "cell_type": "code",
   "execution_count": null,
   "metadata": {},
   "outputs": [],
   "source": [
    "fig, ax = plt.subplots(figsize = (8, 6))\n",
    "fig.suptitle(\"Correlación simple entre variables cuantitativas con y = 1\", fontsize = 16, fontweight = \"bold\", x = 0.43)\n",
    "sns.heatmap(New_Usuarios[New_Usuarios['y']==1][['Monto_adeudado', 'Edad', 'Duracion_llamada', 'Tiempo_en_espera']].corr(), \n",
    "            vmin = -1, vmax = 1, ax = ax, cmap = \"RdYlGn\", annot = True)\n",
    "plt.subplots_adjust(top = 0.85)\n",
    "plt.show()"
   ]
  },
  {
   "cell_type": "markdown",
   "metadata": {},
   "source": [
    "Agregamos los datos de conteo conseguidos en el dataset anterior"
   ]
  },
  {
   "cell_type": "code",
   "execution_count": null,
   "metadata": {},
   "outputs": [],
   "source": [
    "New_Usuarios = pd.read_csv(\"New_Usuarios.csv\", index_col=0, sep=';', encoding='latin-1')\n",
    "usuarios_df_full = pd.merge(consultas_id, New_Usuarios,left_index=True, right_index=True)\n",
    "usuarios_df_full.head()"
   ]
  },
  {
   "cell_type": "code",
   "execution_count": null,
   "metadata": {},
   "outputs": [],
   "source": [
    "usuarios_df_full.info()"
   ]
  },
  {
   "cell_type": "markdown",
   "metadata": {},
   "source": [
    "Estandarizamos los strings y llenamos valores faltantes con la moda"
   ]
  },
  {
   "cell_type": "code",
   "execution_count": 119,
   "metadata": {},
   "outputs": [],
   "source": [
    "for column in usuarios_df_full:\n",
    "    if usuarios_df_full[column].dtype== 'object':\n",
    "        usuarios_df_full[column]=usuarios_df_full[column].str.lower().replace('[#,@,&,/]', '')\n",
    "        usuarios_df_full[column].fillna(usuarios_df_full[column].mode()[0], inplace=True)"
   ]
  },
  {
   "cell_type": "markdown",
   "metadata": {},
   "source": [
    "Revisamos si faltan datos"
   ]
  },
  {
   "cell_type": "code",
   "execution_count": null,
   "metadata": {},
   "outputs": [],
   "source": [
    "usuarios_df_full.isna().sum()"
   ]
  },
  {
   "cell_type": "markdown",
   "metadata": {},
   "source": [
    "FAMD para el punto 1, para ver variables importantes, ahí mismo se hacen correlaciones. Imputar con moda para datos nulos.\n",
    "\n",
    "\n",
    "Para los perfiles de clientes se HCPC(Hierarchical clustering for principal components)"
   ]
  },
  {
   "cell_type": "code",
   "execution_count": 122,
   "metadata": {},
   "outputs": [],
   "source": [
    "usuarios_df_full.to_csv('full_dataset.csv')"
   ]
  },
  {
   "cell_type": "markdown",
   "metadata": {},
   "source": [
    "# Pregunta 2: (20%) Implementando modelos no supervisados identifica un perfil de cliente basado en las características de las personas que se comunican a la línea. Y genera una propuesta personalizada de atención para cada perfil encontrado."
   ]
  },
  {
   "cell_type": "markdown",
   "metadata": {},
   "source": [
    "Se encuentra en el jupyter notebook anexo: $\\pmb{Prueba\\_Emtelco\\_Juan\\_Saenz\\_punto2.ipynb}$"
   ]
  },
  {
   "cell_type": "markdown",
   "metadata": {},
   "source": [
    "# Pregunta 3: (60%) Utilizando modelos supervisados, prediga la variable ‘y’ que se encuentra en la base de datos, tenga en cuenta lo siguiente:"
   ]
  },
  {
   "cell_type": "markdown",
   "metadata": {},
   "source": [
    "## 3.1 Use al menos uno de los siguientes modelos: Regresión lineal, Regresión logística, Regresión ridge, Regresión lasso o elastic-net. Y explique el porqué de su selección e interprete. (5%)"
   ]
  },
  {
   "cell_type": "code",
   "execution_count": null,
   "metadata": {},
   "outputs": [],
   "source": [
    "usuarios_df = pd.read_csv('full_dataset.csv', index_col=0)\n",
    "print(usuarios_df.shape)"
   ]
  },
  {
   "cell_type": "markdown",
   "metadata": {},
   "source": [
    "Por lo anterior de FAMD (Factor analysis of mixed data - análisis factorial de datos mixtos), no tomamos todas las variables a trabajar."
   ]
  },
  {
   "cell_type": "code",
   "execution_count": 4,
   "metadata": {},
   "outputs": [],
   "source": [
    "variables=['Actualización datos', 'Agendamiento citas','Información general',\t\n",
    "            'Peticiones y quejas', 'Procesos web', 'Tipo_persona', 'Departamento',\n",
    "            'Tipo_Plan', 'Tipo_persona', 'Estrato','Antiguedad', 'Motivo_llamada',\n",
    "            'Forma_pago', 'y']\n",
    "usuarios_df=usuarios_df[variables]"
   ]
  },
  {
   "cell_type": "markdown",
   "metadata": {},
   "source": [
    "Es necesario pasar los datos categóricos a one hot encoding"
   ]
  },
  {
   "cell_type": "code",
   "execution_count": null,
   "metadata": {},
   "outputs": [],
   "source": [
    "usuarios_df_dummies=pd.get_dummies(usuarios_df,\n",
    "                                  columns=[x for x in usuarios_df.columns if x not in usuarios_df.describe().columns])\n",
    "usuarios_df_dummies.head()"
   ]
  },
  {
   "cell_type": "markdown",
   "metadata": {},
   "source": [
    "Se procede a diseñar modelos de aprendizaje automático. En el primer caso, $\\pmb{\\text{se usa regresión logística, ya que la variable respuesta es una variable binaria.}}$ "
   ]
  },
  {
   "cell_type": "markdown",
   "metadata": {},
   "source": [
    "Revisamos la cantidad de datos de $y$ para ver si están desbalanceados"
   ]
  },
  {
   "cell_type": "code",
   "execution_count": null,
   "metadata": {},
   "outputs": [],
   "source": [
    "usuarios_df['y'].value_counts()/usuarios_df.shape[0]"
   ]
  },
  {
   "cell_type": "markdown",
   "metadata": {},
   "source": [
    "Hay un ligero desbalanceo, se proseguirá sin hacer cambios por ahora.\n",
    "\n",
    "Se separan los datos en entrenamiento y prueba, y se hace un escalamiento de datos para evitar sesgo en las variables numéricas"
   ]
  },
  {
   "cell_type": "code",
   "execution_count": 6,
   "metadata": {},
   "outputs": [],
   "source": [
    "X_train, X_test, y_train, y_test = train_test_split(usuarios_df_dummies.drop('y', axis=1), usuarios_df_dummies['y'],\n",
    "                                                   test_size=0.3, random_state=13)"
   ]
  },
  {
   "cell_type": "code",
   "execution_count": null,
   "metadata": {},
   "outputs": [],
   "source": [
    "scaler = StandardScaler()\n",
    "X_train_scaled = scaler.fit_transform(X_train)\n",
    "X_test_scaled = scaler.transform(X_test)\n",
    "print(X_train_scaled.shape + X_test_scaled.shape)"
   ]
  },
  {
   "cell_type": "markdown",
   "metadata": {},
   "source": [
    "#### Regresión logística"
   ]
  },
  {
   "cell_type": "code",
   "execution_count": null,
   "metadata": {},
   "outputs": [],
   "source": [
    "logisticRegr = LogisticRegression()\n",
    "logisticRegr.fit(X_train_scaled, y_train)"
   ]
  },
  {
   "cell_type": "markdown",
   "metadata": {},
   "source": [
    "Se procede a hacer predicciones, y observar las capacidades de predicción"
   ]
  },
  {
   "cell_type": "code",
   "execution_count": 156,
   "metadata": {},
   "outputs": [],
   "source": [
    "pred_logisticRegr=logisticRegr.predict(X_test_scaled)"
   ]
  },
  {
   "cell_type": "code",
   "execution_count": null,
   "metadata": {},
   "outputs": [],
   "source": [
    "score_lr = logisticRegr.score(X_test_scaled, y_test)\n",
    "print(score_lr)"
   ]
  },
  {
   "cell_type": "markdown",
   "metadata": {},
   "source": [
    "El modelo casi siempre predice el caso \"0\", generando constantemente falsos positivos"
   ]
  },
  {
   "cell_type": "markdown",
   "metadata": {},
   "source": [
    "## 3.2 Use al menos 3 modelos de machine learning para predecir la variable objetivo, siéntase libre de implementar los modelos que considere necesario (no usar los modelos sugeridos en el punto 3.1). (35%)"
   ]
  },
  {
   "cell_type": "markdown",
   "metadata": {},
   "source": [
    "#### Árbol de decisión"
   ]
  },
  {
   "cell_type": "markdown",
   "metadata": {},
   "source": [
    "Se propone luego el algoritmo de arbol de decisión. Este se espera que funcione correctamente debido a que es no parmétrico"
   ]
  },
  {
   "cell_type": "code",
   "execution_count": null,
   "metadata": {},
   "outputs": [],
   "source": [
    "tree = DecisionTreeClassifier()\n",
    "tree.fit(X_train_scaled, y_train)"
   ]
  },
  {
   "cell_type": "code",
   "execution_count": null,
   "metadata": {},
   "outputs": [],
   "source": [
    "score_treecl=tree.score(X_test_scaled, y_test)\n",
    "print(score_treecl)"
   ]
  },
  {
   "cell_type": "code",
   "execution_count": null,
   "metadata": {},
   "outputs": [],
   "source": [
    "pred_treecl=tree.predict(X_test_scaled)\n",
    "cm = metrics.confusion_matrix(y_test, pred_treecl)\n",
    "print(cm)"
   ]
  },
  {
   "cell_type": "code",
   "execution_count": 171,
   "metadata": {},
   "outputs": [],
   "source": [
    "tree = DecisionTreeClassifier()\n",
    "\n",
    "gs = GridSearchCV(tree,\n",
    "                  param_grid = {'max_depth': range(1, 10)},\n",
    "                  cv=10,\n",
    "                  n_jobs=5,\n",
    "                  scoring='accuracy')\n",
    "cv_tree1=gs.fit(X_train_scaled, y_train)"
   ]
  },
  {
   "cell_type": "code",
   "execution_count": null,
   "metadata": {},
   "outputs": [],
   "source": [
    "gs.best_estimator_"
   ]
  },
  {
   "cell_type": "code",
   "execution_count": null,
   "metadata": {},
   "outputs": [],
   "source": [
    "score_treecl=gs.score(X_test_scaled, y_test)\n",
    "print(score_treecl) # Mejoró el modelo con la grilla de parámetros que se buscó"
   ]
  },
  {
   "cell_type": "code",
   "execution_count": null,
   "metadata": {},
   "outputs": [],
   "source": []
  },
  {
   "cell_type": "markdown",
   "metadata": {},
   "source": [
    "#### AdaBoostClassifier"
   ]
  },
  {
   "cell_type": "markdown",
   "metadata": {},
   "source": [
    "Este tiene una precisión menor a la regresión logística, pero sus predicciones son más variadas.\n",
    "Se propone ahora aplicar boosting, posiblemente mejorando el caso anterior"
   ]
  },
  {
   "cell_type": "code",
   "execution_count": null,
   "metadata": {},
   "outputs": [],
   "source": [
    "adb = AdaBoostClassifier(DecisionTreeClassifier(min_samples_split=10,max_depth=4),\n",
    "                         n_estimators=10,learning_rate=0.3)\n",
    "adb.fit(X_train_scaled, y_train)"
   ]
  },
  {
   "cell_type": "code",
   "execution_count": null,
   "metadata": {},
   "outputs": [],
   "source": [
    "score_ABcl=adb.score(X_test_scaled, y_test)\n",
    "print(score_ABcl)"
   ]
  },
  {
   "cell_type": "code",
   "execution_count": null,
   "metadata": {},
   "outputs": [],
   "source": [
    "pred_ABcl=adb.predict(X_test_scaled)\n",
    "cm = metrics.confusion_matrix(y_test, pred_ABcl)\n",
    "print(cm)"
   ]
  },
  {
   "cell_type": "markdown",
   "metadata": {},
   "source": [
    "#### Random Forest"
   ]
  },
  {
   "cell_type": "markdown",
   "metadata": {},
   "source": [
    "De nuevo se tienen problemas conlos falsos positivos, aunque menos que en regresión logística.\n",
    "\n",
    "Se proponen ahora random forests."
   ]
  },
  {
   "cell_type": "code",
   "execution_count": null,
   "metadata": {},
   "outputs": [],
   "source": [
    "rf = RandomForestClassifier(n_estimators=5, max_depth=10)\n",
    "rf.fit(X_train_scaled, y_train)"
   ]
  },
  {
   "cell_type": "code",
   "execution_count": null,
   "metadata": {},
   "outputs": [],
   "source": [
    "score_rf=rf.score(X_test_scaled, y_test)\n",
    "print(score_rf)"
   ]
  },
  {
   "cell_type": "code",
   "execution_count": null,
   "metadata": {},
   "outputs": [],
   "source": [
    "pred_rf=rf.predict(X_test_scaled)"
   ]
  },
  {
   "cell_type": "code",
   "execution_count": 202,
   "metadata": {},
   "outputs": [],
   "source": [
    "n_estimators =  [1,2,3,4,5,6,7,8,9,10]\n",
    "max_depth = [1,2,3,4,5,6,7,8,9,10]\n",
    "min_samples_split = [1, 2, 3]\n",
    "min_samples_leaf = [1, 2, 3]\n",
    "param_grid = {'n_estimators': n_estimators,\n",
    "               'max_depth': max_depth,\n",
    "               'min_samples_split': min_samples_split,\n",
    "               'min_samples_leaf': min_samples_leaf,\n",
    "              }"
   ]
  },
  {
   "cell_type": "code",
   "execution_count": null,
   "metadata": {
    "scrolled": true
   },
   "outputs": [],
   "source": [
    "rf = RandomForestClassifier()\n",
    "grid_search = GridSearchCV(estimator = rf, param_grid = param_grid, \n",
    "                          cv = 5, n_jobs = 5, verbose = 2)\n",
    "rf_cv=grid_search.fit(X_train_scaled, y_train)"
   ]
  },
  {
   "cell_type": "code",
   "execution_count": null,
   "metadata": {},
   "outputs": [],
   "source": [
    "grid_search.best_estimator_"
   ]
  },
  {
   "cell_type": "code",
   "execution_count": null,
   "metadata": {},
   "outputs": [],
   "source": [
    "score_rf=grid_search.score(X_test_scaled, y_test)\n",
    "print(score_rf) # Mejoró el modelo con la grilla de parámetros que se buscó"
   ]
  },
  {
   "cell_type": "markdown",
   "metadata": {},
   "source": [
    "Incluso si con el modelo de Random Forest perdemos gran parte de la interpretación del modelo que nos dio un árbol de decisión simple, aún podemos obtener la importancia de cada característica."
   ]
  },
  {
   "cell_type": "code",
   "execution_count": null,
   "metadata": {},
   "outputs": [],
   "source": [
    "importances1 =rf_cv.best_estimator_.feature_importances_\n",
    "importances_df1=pd.DataFrame({'importances':importances1,'feauture':usuarios_df_dummies.drop('y', axis=1).columns})\n",
    "importances_df1=importances_df1.sort_values(by=['importances'],ascending=False)\n",
    "importances_df1"
   ]
  },
  {
   "cell_type": "code",
   "execution_count": null,
   "metadata": {},
   "outputs": [],
   "source": [
    "fig = plt.figure(figsize = (10, 5))\n",
    "plt.bar(importances_df1.feauture[:15],importances_df1.importances[:15], color ='maroon',\n",
    "        width = 0.4)\n",
    "plt.xticks( rotation='vertical')"
   ]
  },
  {
   "cell_type": "markdown",
   "metadata": {},
   "source": [
    "Las variables más importantes para la predicción son: Peticiones y quejas, Procesos web, Motivo_llamada_m20, Motivo_llamada_m17 e Información general. También entre las 15 más importantes se encuentran variables como la antiguedad, que la persona sea de estrato 2, la persona con estado civil de unión libre. "
   ]
  },
  {
   "cell_type": "markdown",
   "metadata": {},
   "source": [
    "De nuevo tenemos problemas con la cantidad de falsos positivos"
   ]
  },
  {
   "cell_type": "markdown",
   "metadata": {},
   "source": [
    "Se postula que el problema principal yace en los datos. Principalmente su cantidad de variables categóricas. A un menor nivel, es posible que el desbalanceo de los datos esté causando parte de estos inconvenientes. Si se quiere continuar usando estos métodos se recomienda arreglar estos asuntos. \n",
    "\n",
    "En su lugar se propone el uso de una red neuronal"
   ]
  },
  {
   "cell_type": "markdown",
   "metadata": {},
   "source": [
    "## 3.3 Defina una arquitectura de red neuronal e impleméntela para predecir la variable respuesta. (20%)"
   ]
  },
  {
   "cell_type": "code",
   "execution_count": null,
   "metadata": {},
   "outputs": [],
   "source": [
    "print(X_train.shape)"
   ]
  },
  {
   "cell_type": "code",
   "execution_count": null,
   "metadata": {
    "tags": []
   },
   "outputs": [],
   "source": [
    "model = tf.keras.Sequential([\n",
    "    tf.keras.layers.Dense(4, input_shape=(X_train.shape[1],)),\n",
    "    tf.keras.layers.Dense(8, activation='relu'),\n",
    "    tf.keras.layers.Dense(1,activation='sigmoid')\n",
    "])\n",
    "\n",
    "model.compile(loss=tf.keras.losses.BinaryCrossentropy(),\n",
    "\n",
    "                optimizer=tf.keras.optimizers.Adam(), \n",
    "\n",
    "                metrics=['accuracy'])\n",
    "\n",
    "model.fit(X_train_scaled, y_train, epochs=5)"
   ]
  },
  {
   "cell_type": "code",
   "execution_count": null,
   "metadata": {},
   "outputs": [],
   "source": [
    "model.evaluate(X_test_scaled, y_test)"
   ]
  },
  {
   "cell_type": "code",
   "execution_count": 211,
   "metadata": {},
   "outputs": [],
   "source": [
    "pred_NN=np.round(model.predict(X_test_scaled))"
   ]
  },
  {
   "cell_type": "code",
   "execution_count": null,
   "metadata": {},
   "outputs": [],
   "source": []
  },
  {
   "cell_type": "markdown",
   "metadata": {},
   "source": [
    "Ahora se va a optimizar la red y escoger los mejores parámetros dentro de una grilla:"
   ]
  },
  {
   "cell_type": "code",
   "execution_count": 214,
   "metadata": {},
   "outputs": [],
   "source": [
    "X_train_full, X_test, y_train_full, y_test = train_test_split(usuarios_df_dummies.drop('y', axis=1), \n",
    "                                                              usuarios_df_dummies['y'],\n",
    "                                                              test_size=0.2, random_state=13)"
   ]
  },
  {
   "cell_type": "code",
   "execution_count": null,
   "metadata": {},
   "outputs": [],
   "source": [
    "X_train_full.shape, X_test.shape, y_train_full.shape, y_test.shape "
   ]
  },
  {
   "cell_type": "code",
   "execution_count": 216,
   "metadata": {},
   "outputs": [],
   "source": [
    "X_train, X_val, y_train, y_val = train_test_split(X_train_full,y_train_full, test_size=0.2, random_state=13)"
   ]
  },
  {
   "cell_type": "code",
   "execution_count": null,
   "metadata": {},
   "outputs": [],
   "source": [
    "X_train.shape, X_val.shape, y_train.shape, y_val.shape"
   ]
  },
  {
   "cell_type": "code",
   "execution_count": null,
   "metadata": {},
   "outputs": [],
   "source": [
    "215712 + 53928 + 67411"
   ]
  },
  {
   "cell_type": "code",
   "execution_count": null,
   "metadata": {},
   "outputs": [],
   "source": [
    "scaler = StandardScaler()\n",
    "X_train = scaler.fit_transform(X_train)\n",
    "X_val = scaler.transform(X_val)\n",
    "X_test = scaler.transform(X_test)\n",
    "print(X_train.shape + X_test.shape + X_val.shape)"
   ]
  },
  {
   "cell_type": "code",
   "execution_count": 220,
   "metadata": {},
   "outputs": [],
   "source": [
    "##Busqueda de los hiperparámetros\n",
    "import tensorflow as tf\n",
    "from tensorflow import keras\n",
    "from tensorflow.keras import layers\n",
    "\n",
    "# This returns a multi-layer-perceptron model in Keras.\n",
    "def get_keras_model(num_hidden_layers, \n",
    "                    num_neurons_per_layer, \n",
    "                    dropout_rate, \n",
    "                    activation):\n",
    "    # create the MLP model.\n",
    "    \n",
    "    # define the layers.\n",
    "    inputs = tf.keras.Input(shape=(X_train.shape[1],))  # input layer.\n",
    "    x = layers.Dropout(dropout_rate)(inputs) # dropout on the weights.\n",
    "    \n",
    "    # Add the hidden layers.\n",
    "    for i in range(num_hidden_layers):\n",
    "        x = layers.Dense(num_neurons_per_layer, \n",
    "                         activation=activation)(x)\n",
    "        x = layers.Dropout(dropout_rate)(x)\n",
    "    \n",
    "    # output layer.\n",
    "    outputs = layers.Dense(1, activation='sigmoid')(x) #Binary classification\n",
    "    \n",
    "    model = tf.keras.Model(inputs=inputs, outputs=outputs)\n",
    "    return model"
   ]
  },
  {
   "cell_type": "code",
   "execution_count": 221,
   "metadata": {},
   "outputs": [],
   "source": [
    "# This function takes in the hyperparameters and returns a score (Cross validation).\n",
    "def keras_mlp_cv_score(parameterization, weight=None):\n",
    "    \n",
    "    model = get_keras_model(parameterization.get('num_hidden_layers'),\n",
    "                            parameterization.get('neurons_per_layer'),\n",
    "                            parameterization.get('dropout_rate'),\n",
    "                            parameterization.get('activation'))\n",
    "    \n",
    "    opt = parameterization.get('optimizer')\n",
    "    opt = opt.lower()\n",
    "    \n",
    "    learning_rate = parameterization.get('learning_rate')\n",
    "    \n",
    "    if opt == 'adam':\n",
    "        optimizer = tf.keras.optimizers.Adam(learning_rate=learning_rate)\n",
    "    elif opt == 'rms':\n",
    "        optimizer = tf.keras.optimizers.RMSprop(learning_rate=learning_rate)\n",
    "    else:\n",
    "        optimizer = tf.keras.optimizers.SGD(learning_rate=learning_rate)\n",
    "    \n",
    "    NUM_EPOCHS = 5\n",
    "    \n",
    "    # Specify the training configuration.\n",
    "    model.compile(optimizer=optimizer,\n",
    "                  loss=tf.keras.losses.MeanSquaredError(),\n",
    "                  metrics=['mse'])\n",
    "\n",
    "    data = X_train\n",
    "    labels = y_train\n",
    "    \n",
    "    # fit the model using validation_data=(X_val,y_val) validation set.\n",
    "    res = model.fit(data, labels, epochs=NUM_EPOCHS, batch_size=parameterization.get('batch_size'),\n",
    "                    validation_data=(X_val,y_val))\n",
    "    \n",
    "    # look at the last 10 epochs. Get the mean and standard deviation of the validation score.\n",
    "    last10_scores = np.array(res.history['val_loss'][-10:])\n",
    "    mean = last10_scores.mean()\n",
    "    sem = last10_scores.std()\n",
    "    \n",
    "    # If the model didn't converge then set a high loss.\n",
    "    if np.isnan(mean):\n",
    "        return 9999.0, 0.0\n",
    "    \n",
    "    return mean, sem"
   ]
  },
  {
   "cell_type": "code",
   "execution_count": 222,
   "metadata": {},
   "outputs": [],
   "source": [
    "# Define the search space.\n",
    "parameters=[\n",
    "    {\n",
    "        \"name\": \"learning_rate\",\n",
    "        \"type\": \"range\",\n",
    "        \"bounds\": [0.001, 0.002],\n",
    "        \"log_scale\": True,\n",
    "    },\n",
    "    {\n",
    "        \"name\": \"dropout_rate\",\n",
    "        \"type\": \"range\",\n",
    "        \"bounds\": [0.01, 0.02],\n",
    "        \"log_scale\": True,\n",
    "    },\n",
    "    {\n",
    "        \"name\": \"num_hidden_layers\",\n",
    "        \"type\": \"range\",\n",
    "        \"bounds\": [1, 2],\n",
    "        \"value_type\": \"int\"\n",
    "    },\n",
    "    {\n",
    "        \"name\": \"neurons_per_layer\",\n",
    "        \"type\": \"range\",\n",
    "        \"bounds\": [16, 32],\n",
    "        \"value_type\": \"int\"\n",
    "    },\n",
    "    {\n",
    "        \"name\": \"batch_size\",\n",
    "        \"type\": \"choice\",\n",
    "        \"values\": [16, 32],\n",
    "    },\n",
    "    \n",
    "    {\n",
    "        \"name\": \"activation\",\n",
    "        \"type\": \"choice\",\n",
    "        \"values\": ['tanh', 'sigmoid', 'relu'],\n",
    "    },\n",
    "    {\n",
    "        \"name\": \"optimizer\",\n",
    "        \"type\": \"choice\",\n",
    "        \"values\": ['adam', 'rms'],\n",
    "    },\n",
    "]"
   ]
  },
  {
   "cell_type": "code",
   "execution_count": null,
   "metadata": {},
   "outputs": [],
   "source": [
    "init_notebook_plotting()\n",
    "\n",
    "ax_client = AxClient()\n",
    "\n",
    "# create the experiment.\n",
    "ax_client.create_experiment(\n",
    "    name=\"keras_experiment\",\n",
    "    parameters=parameters,\n",
    "    objective_name='keras_cv',\n",
    "    minimize=True)\n",
    "\n",
    "def evaluate(parameters):\n",
    "    return {\"keras_cv\": keras_mlp_cv_score(parameters)}"
   ]
  },
  {
   "cell_type": "code",
   "execution_count": null,
   "metadata": {},
   "outputs": [],
   "source": [
    "for i in range(10):\n",
    "    parameters, trial_index = ax_client.get_next_trial()\n",
    "    ax_client.complete_trial(trial_index=trial_index, raw_data=evaluate(parameters))"
   ]
  },
  {
   "cell_type": "code",
   "execution_count": null,
   "metadata": {},
   "outputs": [],
   "source": [
    "ax_client.get_trials_data_frame().sort_values('trial_index')"
   ]
  },
  {
   "cell_type": "code",
   "execution_count": null,
   "metadata": {},
   "outputs": [],
   "source": [
    "best_parameters, values = ax_client.get_best_parameters()\n",
    "\n",
    "# the best set of parameters.\n",
    "for k in best_parameters.items():\n",
    "  print(k)\n",
    "\n",
    "print()\n",
    "\n",
    "# the best score achieved.\n",
    "means, covariances = values\n",
    "print(means)"
   ]
  },
  {
   "cell_type": "markdown",
   "metadata": {},
   "source": [
    "## 3.4 Optimice los modelos anteriormente planteados en el punto 3.2 y 3.3 (20%)."
   ]
  },
  {
   "cell_type": "markdown",
   "metadata": {},
   "source": [
    "Para el Árbol de decisión y el Random Forest se formuló una grilla de parámetros para encontrar el modelo que mejor score arrojara. En la red neuronal se hizo lo mismo, con una grilla de parámetros que incluía funciones de activación, número de capas ocultas, neuronas por capa, batch size y optimizadores. "
   ]
  },
  {
   "cell_type": "markdown",
   "metadata": {},
   "source": [
    "Adicionalmente en este punto se va a realizar la estimación de los modelos de machine learning y la red neuronal anteriormente mencionados, teniendo en cuenta la mejor en el balanceo de los datos."
   ]
  },
  {
   "cell_type": "markdown",
   "metadata": {},
   "source": [
    "Con estas demostraciones se busca entonces mejorar el balanceo de los datos"
   ]
  },
  {
   "cell_type": "code",
   "execution_count": null,
   "metadata": {},
   "outputs": [],
   "source": [
    "case_0=usuarios_df_dummies[usuarios_df_dummies['y']==0]\n",
    "case_1=usuarios_df_dummies[usuarios_df_dummies['y']==1]\n",
    "\n",
    "case_1_upsample = resample(case_1,\n",
    "             replace=True,\n",
    "             n_samples=len(case_0),\n",
    "             random_state=42)\n",
    "print(len(case_1_upsample), len(case_0))"
   ]
  },
  {
   "cell_type": "code",
   "execution_count": null,
   "metadata": {},
   "outputs": [],
   "source": [
    "usuarios_df_upsample=pd.concat([case_0, case_1_upsample])\n",
    "print(usuarios_df_upsample.shape)"
   ]
  },
  {
   "cell_type": "code",
   "execution_count": 10,
   "metadata": {},
   "outputs": [],
   "source": [
    "X_train, X_test, y_train, y_test = train_test_split(usuarios_df_upsample.drop('y', axis=1), \n",
    "                                                    usuarios_df_upsample['y'],\n",
    "                                                    test_size=0.3, random_state=13)"
   ]
  },
  {
   "cell_type": "code",
   "execution_count": null,
   "metadata": {},
   "outputs": [],
   "source": [
    "scaler = StandardScaler()\n",
    "X_train_scaled = scaler.fit_transform(X_train)\n",
    "X_test_scaled = scaler.transform(X_test)\n",
    "print(X_train_scaled.shape, X_test_scaled.shape)"
   ]
  },
  {
   "cell_type": "markdown",
   "metadata": {},
   "source": [
    "Repetimos regresión logística"
   ]
  },
  {
   "cell_type": "code",
   "execution_count": null,
   "metadata": {},
   "outputs": [],
   "source": [
    "logisticRegr = LogisticRegression()\n",
    "logisticRegr.fit(X_train_scaled, y_train)"
   ]
  },
  {
   "cell_type": "markdown",
   "metadata": {},
   "source": [
    "Se procede a hacer predicciones, y observar las capacidades de predicción"
   ]
  },
  {
   "cell_type": "code",
   "execution_count": 13,
   "metadata": {},
   "outputs": [],
   "source": [
    "pred_logisticRegr=logisticRegr.predict(X_test_scaled)"
   ]
  },
  {
   "cell_type": "code",
   "execution_count": null,
   "metadata": {},
   "outputs": [],
   "source": [
    "score_lr = logisticRegr.score(X_test_scaled, y_test)\n",
    "print(score_lr)"
   ]
  },
  {
   "cell_type": "markdown",
   "metadata": {},
   "source": [
    "Para observar más a fondo cómo trabaja la predicción de los datos, se usa una matriz de confusión."
   ]
  },
  {
   "cell_type": "code",
   "execution_count": null,
   "metadata": {},
   "outputs": [],
   "source": [
    "cm = metrics.confusion_matrix(y_test, pred_logisticRegr)\n",
    "print(cm)"
   ]
  },
  {
   "cell_type": "markdown",
   "metadata": {},
   "source": [
    "Se redujo la precisión, pero las predicciones no son sesgadas"
   ]
  },
  {
   "cell_type": "markdown",
   "metadata": {},
   "source": [
    "Repetimos arboles de decisión"
   ]
  },
  {
   "cell_type": "code",
   "execution_count": null,
   "metadata": {},
   "outputs": [],
   "source": [
    "tree = DecisionTreeClassifier()\n",
    "tree.fit(X_train_scaled, y_train)"
   ]
  },
  {
   "cell_type": "code",
   "execution_count": null,
   "metadata": {},
   "outputs": [],
   "source": [
    "score_treecl=tree.score(X_test_scaled, y_test)\n",
    "print(score_treecl)"
   ]
  },
  {
   "cell_type": "code",
   "execution_count": null,
   "metadata": {},
   "outputs": [],
   "source": [
    "pred_treecl=tree.predict(X_test_scaled)\n",
    "cm = metrics.confusion_matrix(y_test, pred_treecl)\n",
    "print(cm)"
   ]
  },
  {
   "cell_type": "markdown",
   "metadata": {},
   "source": [
    "Se mejoró la predicción y la variedad de precisión\n",
    "\n",
    "Se repite boosted trees"
   ]
  },
  {
   "cell_type": "code",
   "execution_count": null,
   "metadata": {},
   "outputs": [],
   "source": [
    "adb = AdaBoostClassifier(DecisionTreeClassifier(min_samples_split=10,max_depth=4),\n",
    "                         n_estimators=10,learning_rate=0.3)\n",
    "adb.fit(X_train_scaled, y_train)"
   ]
  },
  {
   "cell_type": "code",
   "execution_count": null,
   "metadata": {},
   "outputs": [],
   "source": [
    "score_ABcl=adb.score(X_test_scaled, y_test)\n",
    "print(score_ABcl)"
   ]
  },
  {
   "cell_type": "code",
   "execution_count": null,
   "metadata": {},
   "outputs": [],
   "source": [
    "pred_ABcl=adb.predict(X_test_scaled)\n",
    "\n",
    "cm = metrics.confusion_matrix(y_test, pred_ABcl)\n",
    "print(cm)"
   ]
  },
  {
   "cell_type": "code",
   "execution_count": null,
   "metadata": {},
   "outputs": [],
   "source": [
    "rf = RandomForestClassifier(n_estimators=30, max_depth=10)\n",
    "rf.fit(X_train_scaled, y_train)"
   ]
  },
  {
   "cell_type": "code",
   "execution_count": null,
   "metadata": {},
   "outputs": [],
   "source": [
    "score_rf=rf.score(X_test_scaled, y_test)\n",
    "print(score_rf)"
   ]
  },
  {
   "cell_type": "code",
   "execution_count": null,
   "metadata": {},
   "outputs": [],
   "source": [
    "pred_rf=rf.predict(X_test_scaled)\n",
    "\n",
    "cm = metrics.confusion_matrix(y_test, pred_rf)\n",
    "print(cm)"
   ]
  },
  {
   "cell_type": "markdown",
   "metadata": {},
   "source": [
    "Se repite la red neuronal"
   ]
  },
  {
   "cell_type": "code",
   "execution_count": null,
   "metadata": {},
   "outputs": [],
   "source": [
    "model = tf.keras.Sequential([\n",
    "    tf.keras.layers.Dense(16, input_shape=(X_train.shape[1],)),\n",
    "    tf.keras.layers.Dense(28, activation='relu'),\n",
    "    tf.keras.layers.Dense(28, activation='relu'),\n",
    "    tf.keras.layers.Dense(1,activation='sigmoid')\n",
    "])\n",
    "\n",
    "model.compile(loss=tf.keras.losses.BinaryCrossentropy(),\n",
    "\n",
    "                optimizer=tf.keras.optimizers.Adam(), \n",
    "\n",
    "                metrics=['accuracy'])\n",
    "\n",
    "model.fit(X_train_scaled, y_train, epochs=5)"
   ]
  },
  {
   "cell_type": "code",
   "execution_count": null,
   "metadata": {},
   "outputs": [],
   "source": [
    "model.evaluate(X_test_scaled, y_test)"
   ]
  },
  {
   "cell_type": "code",
   "execution_count": 29,
   "metadata": {},
   "outputs": [],
   "source": [
    "pred_NN=np.round(model.predict(X_test_scaled))"
   ]
  },
  {
   "cell_type": "code",
   "execution_count": null,
   "metadata": {},
   "outputs": [],
   "source": [
    "cm = metrics.confusion_matrix(y_test, pred_NN)\n",
    "print(cm)"
   ]
  },
  {
   "cell_type": "markdown",
   "metadata": {},
   "source": [
    "En conclusión, después del arreglo de los datos, el modelo de Arboles de decisión es el mejor, debido a tanto su falta de sesgo, como su precisión. \n",
    "\n",
    "el problema principal cae en la base de datos siendo \"muy compleja\" para un sistema de clasificación binario sencillo."
   ]
  },
  {
   "cell_type": "code",
   "execution_count": null,
   "metadata": {},
   "outputs": [],
   "source": []
  },
  {
   "cell_type": "markdown",
   "metadata": {},
   "source": [
    "Mediante las funciones keras_mlp_cv_score y get_keras_model construidas en el punto de optimización de la red neuronal, se arroja un 'learning_rate' de 0.001186383338267293 y 'dropout_rate' de 0.017273042056272076, parámetros que se usan para controlar y corregir el sobreajuste de la red. "
   ]
  },
  {
   "cell_type": "markdown",
   "metadata": {},
   "source": [
    "Adicionalmente se corrigio el desbalanceamiento de los datos y con ello disminuye el sesgo."
   ]
  },
  {
   "cell_type": "markdown",
   "metadata": {},
   "source": [
    "## 3.6 Compare los 5 modelos y seleccione el mejor, y explique cuál fue el criterio por el cual lo eligió. (10%)"
   ]
  },
  {
   "cell_type": "code",
   "execution_count": null,
   "metadata": {},
   "outputs": [],
   "source": [
    "score_lr, score_treecl, score_ABcl, score_rf, model.evaluate(X_test_scaled, y_test)"
   ]
  },
  {
   "cell_type": "code",
   "execution_count": null,
   "metadata": {},
   "outputs": [],
   "source": [
    "metrics.confusion_matrix(y_test, pred_logisticRegr)"
   ]
  },
  {
   "cell_type": "code",
   "execution_count": null,
   "metadata": {},
   "outputs": [],
   "source": [
    "metrics.confusion_matrix(y_test, pred_treecl)"
   ]
  },
  {
   "cell_type": "code",
   "execution_count": null,
   "metadata": {},
   "outputs": [],
   "source": [
    "metrics.confusion_matrix(y_test, pred_ABcl)"
   ]
  },
  {
   "cell_type": "code",
   "execution_count": null,
   "metadata": {},
   "outputs": [],
   "source": [
    "metrics.confusion_matrix(y_test, pred_rf)"
   ]
  },
  {
   "cell_type": "code",
   "execution_count": null,
   "metadata": {},
   "outputs": [],
   "source": [
    "metrics.confusion_matrix(y_test, pred_NN)"
   ]
  },
  {
   "cell_type": "markdown",
   "metadata": {},
   "source": [
    "Bajo estos criterior que son el accuracy y la confusio_matrix, es mejor el modelo de árboles de decisión."
   ]
  },
  {
   "cell_type": "code",
   "execution_count": null,
   "metadata": {},
   "outputs": [],
   "source": [
    "# Accuracy = TP + TN / (TP + TN + FP + FN)\n",
    "# Precision = TP / (TP + FP)\n",
    "# Recall = TP / (TP + FN)  Also known as sensitivity, or True Positive Rate\n",
    "# F1 = 2 * Precision * Recall / (Precision + Recall) \n",
    "print('Accuracy_m1: {:.2f}'.format(accuracy_score(y_test, pred_logisticRegr)))\n",
    "print('Accuracy_m2: {:.2f}'.format(accuracy_score(y_test, pred_treecl)))\n",
    "print('Accuracy_m3: {:.2f}'.format(accuracy_score(y_test, pred_ABcl)))\n",
    "print('Accuracy_m4: {:.2f}'.format(accuracy_score(y_test, pred_rf)))\n",
    "print('Accuracy_m5: {:.2f}'.format(accuracy_score(y_test, pred_NN)))"
   ]
  },
  {
   "cell_type": "code",
   "execution_count": null,
   "metadata": {},
   "outputs": [],
   "source": [
    "print('Precision_m1: {:.2f}'.format(precision_score(y_test, pred_logisticRegr, average='micro')))\n",
    "print('Precision_m2: {:.2f}'.format(precision_score(y_test, pred_treecl, average='micro')))\n",
    "print('Precision_m3: {:.2f}'.format(precision_score(y_test, pred_ABcl, average='micro')))\n",
    "print('Precision_m4: {:.2f}'.format(precision_score(y_test, pred_rf, average='micro')))\n",
    "print('Precision_m5: {:.2f}'.format(precision_score(y_test, pred_NN, average='micro')))"
   ]
  },
  {
   "cell_type": "code",
   "execution_count": null,
   "metadata": {},
   "outputs": [],
   "source": [
    "print('Recall_m1: {:.2f}'.format(recall_score(y_test, pred_logisticRegr, average='micro')))\n",
    "print('Recall_m2: {:.2f}'.format(recall_score(y_test, pred_treecl, average='micro')))\n",
    "print('Recall_m3: {:.2f}'.format(recall_score(y_test, pred_ABcl, average='micro')))\n",
    "print('Recall_m4: {:.2f}'.format(recall_score(y_test, pred_rf, average='micro')))\n",
    "print('Recall_m5: {:.2f}'.format(recall_score(y_test, pred_NN, average='micro')))"
   ]
  },
  {
   "cell_type": "code",
   "execution_count": null,
   "metadata": {},
   "outputs": [],
   "source": [
    "print('F1_m1: {:.2f}'.format(f1_score(y_test, pred_logisticRegr, average='micro')))\n",
    "print('F1_m2: {:.2f}'.format(f1_score(y_test, pred_treecl, average='micro')))\n",
    "print('F1_m3: {:.2f}'.format(f1_score(y_test, pred_ABcl, average='micro')))\n",
    "print('F1_m4: {:.2f}'.format(f1_score(y_test, pred_rf, average='micro')))\n",
    "print('F1_m5: {:.2f}'.format(f1_score(y_test, pred_NN, average='micro')))"
   ]
  },
  {
   "cell_type": "code",
   "execution_count": null,
   "metadata": {},
   "outputs": [],
   "source": []
  },
  {
   "cell_type": "code",
   "execution_count": null,
   "metadata": {},
   "outputs": [],
   "source": [
    "# Combined report with all above metrics\n",
    "print(classification_report(y_test, pred_logisticRegr)) # Modelo 1"
   ]
  },
  {
   "cell_type": "code",
   "execution_count": null,
   "metadata": {},
   "outputs": [],
   "source": [
    "print(classification_report(y_test, pred_treecl)) # Modelo 2"
   ]
  },
  {
   "cell_type": "code",
   "execution_count": null,
   "metadata": {},
   "outputs": [],
   "source": [
    "print(classification_report(y_test, pred_ABcl)) # Modelo 3"
   ]
  },
  {
   "cell_type": "code",
   "execution_count": null,
   "metadata": {},
   "outputs": [],
   "source": [
    "print(classification_report(y_test, pred_rf)) # Modelo 4"
   ]
  },
  {
   "cell_type": "code",
   "execution_count": null,
   "metadata": {},
   "outputs": [],
   "source": [
    "print(classification_report(y_test, pred_NN)) # Modelo 5"
   ]
  },
  {
   "cell_type": "markdown",
   "metadata": {},
   "source": [
    "En conclusión, después del arreglo de los datos, el modelo de Arboles de decisión es el mejor, debido a tanto su falta de sesgo, como su precisión. \n",
    "\n",
    "el problema principal cae en la base de datos siendo \"muy compleja\" para un sistema de clasificación binario sencillo."
   ]
  },
  {
   "cell_type": "markdown",
   "metadata": {},
   "source": [
    "## 3.7 Una vez finalizado lo anterior concluya y proponga una metodología de despliegue del mejor modelo seleccionado. (5%)"
   ]
  },
  {
   "cell_type": "code",
   "execution_count": null,
   "metadata": {},
   "outputs": [],
   "source": []
  }
 ],
 "metadata": {
  "kernelspec": {
   "display_name": "Python 3 (ipykernel)",
   "language": "python",
   "name": "python3"
  },
  "language_info": {
   "codemirror_mode": {
    "name": "ipython",
    "version": 3
   },
   "file_extension": ".py",
   "mimetype": "text/x-python",
   "name": "python",
   "nbconvert_exporter": "python",
   "pygments_lexer": "ipython3",
   "version": "3.12.4"
  }
 },
 "nbformat": 4,
 "nbformat_minor": 4
}
